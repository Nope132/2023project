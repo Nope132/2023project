{
 "cells": [
  {
   "cell_type": "code",
   "execution_count": 3,
   "id": "c5b11432",
   "metadata": {},
   "outputs": [],
   "source": [
    "class BlockOperatorVisitor(libcst.CSTVisitor):\n",
    "    def __init__(self):\n",
    "        self.block_op_dict = dict()\n",
    "        self.current_block = None\n",
    "    def visit_IndentedBlock(self, node):\n",
    "        self.current_block = node\n",
    "        self.block_op_dict[node] = 0\n",
    "    def leave_IndentedBlock(self, node):\n",
    "        self.current_block = None\n",
    "    def leave_BinaryOperation_operator(self, node):\n",
    "        if self.current_block:\n",
    "            self.block_op_dict[self.current_block] += 1"
   ]
  },
  {
   "cell_type": "code",
   "execution_count": 2,
   "id": "6f72d87c",
   "metadata": {},
   "outputs": [],
   "source": [
    "import libcst"
   ]
  },
  {
   "cell_type": "markdown",
   "id": "20671245",
   "metadata": {},
   "source": []
  },
  {
   "cell_type": "code",
   "execution_count": 4,
   "id": "ff2c115e",
   "metadata": {},
   "outputs": [],
   "source": [
    "visitor=BlockOperatorVisitor()"
   ]
  },
  {
   "cell_type": "code",
   "execution_count": 5,
   "id": "c36f9299",
   "metadata": {},
   "outputs": [
    {
     "ename": "SyntaxError",
     "evalue": "invalid syntax (temp/ipykernel_32660/460276806.py, line 1)",
     "output_type": "error",
     "traceback": [
      "\u001b[1;36m  File \u001b[1;32m\"C:\\temp/ipykernel_32660/460276806.py\"\u001b[1;36m, line \u001b[1;32m1\u001b[0m\n\u001b[1;33m    temp=code.\u001b[0m\n\u001b[1;37m              ^\u001b[0m\n\u001b[1;31mSyntaxError\u001b[0m\u001b[1;31m:\u001b[0m invalid syntax\n"
     ]
    }
   ],
   "source": [
    "temp=code."
   ]
  },
  {
   "cell_type": "code",
   "execution_count": 6,
   "id": "887c24a4",
   "metadata": {},
   "outputs": [],
   "source": [
    "f =open(\"myfile.txt\",\"w\")"
   ]
  },
  {
   "cell_type": "code",
   "execution_count": 7,
   "id": "8ba5c707",
   "metadata": {},
   "outputs": [
    {
     "data": {
      "text/plain": [
       "_io.TextIOWrapper"
      ]
     },
     "execution_count": 7,
     "metadata": {},
     "output_type": "execute_result"
    }
   ],
   "source": [
    "type(f)"
   ]
  },
  {
   "cell_type": "code",
   "execution_count": 9,
   "id": "29771152",
   "metadata": {},
   "outputs": [
    {
     "data": {
      "text/plain": [
       "11"
      ]
     },
     "execution_count": 9,
     "metadata": {},
     "output_type": "execute_result"
    }
   ],
   "source": [
    "f.write(\"hello world\")"
   ]
  },
  {
   "cell_type": "code",
   "execution_count": 11,
   "id": "38e70177",
   "metadata": {},
   "outputs": [],
   "source": [
    "f.close()"
   ]
  },
  {
   "cell_type": "code",
   "execution_count": 13,
   "id": "13349d3d",
   "metadata": {},
   "outputs": [],
   "source": [
    "fin = open(\"myfile.txt\",\"r\")\n",
    "content =fin.read()\n",
    "fin.close()"
   ]
  },
  {
   "cell_type": "code",
   "execution_count": 14,
   "id": "b38e4119",
   "metadata": {},
   "outputs": [
    {
     "data": {
      "text/plain": [
       "'hello worldhello world'"
      ]
     },
     "execution_count": 14,
     "metadata": {},
     "output_type": "execute_result"
    }
   ],
   "source": [
    "content"
   ]
  },
  {
   "cell_type": "code",
   "execution_count": 15,
   "id": "8614c09d",
   "metadata": {},
   "outputs": [],
   "source": [
    "with open(\"myfile.txt\",\"r\")as fin:\n",
    "    content=fin.read()"
   ]
  },
  {
   "cell_type": "code",
   "execution_count": 16,
   "id": "c60834c4",
   "metadata": {},
   "outputs": [
    {
     "data": {
      "text/plain": [
       "<_io.TextIOWrapper name='myfile.txt' mode='r' encoding='cp936'>"
      ]
     },
     "execution_count": 16,
     "metadata": {},
     "output_type": "execute_result"
    }
   ],
   "source": [
    "fin"
   ]
  },
  {
   "cell_type": "code",
   "execution_count": 17,
   "id": "9d2e052b",
   "metadata": {},
   "outputs": [
    {
     "data": {
      "text/plain": [
       "'hello worldhello world'"
      ]
     },
     "execution_count": 17,
     "metadata": {},
     "output_type": "execute_result"
    }
   ],
   "source": [
    "content"
   ]
  },
  {
   "cell_type": "code",
   "execution_count": 18,
   "id": "e008a8de",
   "metadata": {},
   "outputs": [],
   "source": [
    "with open(\"trace.py\",\"r\")as f:\n",
    "    lines=f.readlines()"
   ]
  },
  {
   "cell_type": "code",
   "execution_count": 19,
   "id": "a9a665e6",
   "metadata": {},
   "outputs": [
    {
     "data": {
      "text/plain": [
       "['#!/user/bin/python\\n',\n",
       " '# coding: utf-8\\n',\n",
       " 'from sys import settrace\\n',\n",
       " '\\n',\n",
       " 'def tracer(frame,event,arg=None):\\n',\n",
       " '    func =frame.f_code.co_name\\n',\n",
       " '    lineno =frame.f_lineno\\n',\n",
       " '    locals =frame.f_locals\\n',\n",
       " '    print(f\"event:{event},func:{func},lineno:{lineno}),locals:{locals}\")\\n',\n",
       " '    return tracer\\n',\n",
       " '\\n',\n",
       " '\\n',\n",
       " 'def mysnooper(func):\\n',\n",
       " '    def inner(*args,**kwargs):\\n',\n",
       " '        old = settrace(tracer)\\n',\n",
       " '        returnval = func(*args,**kwargs)\\n',\n",
       " '        settrace(old)\\n',\n",
       " '        return returnval\\n',\n",
       " '    return inner\\n',\n",
       " '\\n',\n",
       " '@mysnooper\\n',\n",
       " 'def foo(bar):\\n',\n",
       " '    buz =1\\n',\n",
       " '    if bar+buz >10:\\n',\n",
       " '        return 1\\n',\n",
       " '    else:\\n',\n",
       " '        return 2\\n',\n",
       " '#old = settrace(tracer)\\n',\n",
       " 'foo(11)\\n',\n",
       " '#.\\n',\n",
       " 'settrace(old)']"
      ]
     },
     "execution_count": 19,
     "metadata": {},
     "output_type": "execute_result"
    }
   ],
   "source": [
    "lines"
   ]
  },
  {
   "cell_type": "code",
   "execution_count": 22,
   "id": "bfac2e32",
   "metadata": {},
   "outputs": [],
   "source": [
    "with open(\"trace.py\",\"r\")as f:\n",
    "    lines=f.read().splitlines()"
   ]
  },
  {
   "cell_type": "code",
   "execution_count": 23,
   "id": "08ef318a",
   "metadata": {},
   "outputs": [
    {
     "data": {
      "text/plain": [
       "['#!/user/bin/python',\n",
       " '# coding: utf-8',\n",
       " 'from sys import settrace',\n",
       " '',\n",
       " 'def tracer(frame,event,arg=None):',\n",
       " '    func =frame.f_code.co_name',\n",
       " '    lineno =frame.f_lineno',\n",
       " '    locals =frame.f_locals',\n",
       " '    print(f\"event:{event},func:{func},lineno:{lineno}),locals:{locals}\")',\n",
       " '    return tracer',\n",
       " '',\n",
       " '',\n",
       " 'def mysnooper(func):',\n",
       " '    def inner(*args,**kwargs):',\n",
       " '        old = settrace(tracer)',\n",
       " '        returnval = func(*args,**kwargs)',\n",
       " '        settrace(old)',\n",
       " '        return returnval',\n",
       " '    return inner',\n",
       " '',\n",
       " '@mysnooper',\n",
       " 'def foo(bar):',\n",
       " '    buz =1',\n",
       " '    if bar+buz >10:',\n",
       " '        return 1',\n",
       " '    else:',\n",
       " '        return 2',\n",
       " '#old = settrace(tracer)',\n",
       " 'foo(11)',\n",
       " '#.',\n",
       " 'settrace(old)']"
      ]
     },
     "execution_count": 23,
     "metadata": {},
     "output_type": "execute_result"
    }
   ],
   "source": [
    "lines"
   ]
  },
  {
   "cell_type": "code",
   "execution_count": null,
   "id": "3202887f",
   "metadata": {},
   "outputs": [],
   "source": []
  }
 ],
 "metadata": {
  "kernelspec": {
   "display_name": "Python 3 (ipykernel)",
   "language": "python",
   "name": "python3"
  },
  "language_info": {
   "codemirror_mode": {
    "name": "ipython",
    "version": 3
   },
   "file_extension": ".py",
   "mimetype": "text/x-python",
   "name": "python",
   "nbconvert_exporter": "python",
   "pygments_lexer": "ipython3",
   "version": "3.9.7"
  }
 },
 "nbformat": 4,
 "nbformat_minor": 5
}
