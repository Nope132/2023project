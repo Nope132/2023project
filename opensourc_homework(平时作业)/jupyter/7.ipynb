{
 "cells": [
  {
   "cell_type": "code",
   "execution_count": 8,
   "id": "2502459b",
   "metadata": {},
   "outputs": [],
   "source": [
    "import requests"
   ]
  },
  {
   "cell_type": "code",
   "execution_count": 10,
   "id": "6bfa0961",
   "metadata": {},
   "outputs": [],
   "source": [
    "res = requests.get(\"http://localhost:5000/display\")"
   ]
  },
  {
   "cell_type": "code",
   "execution_count": 11,
   "id": "75fbf87f",
   "metadata": {},
   "outputs": [
    {
     "data": {
      "text/plain": [
       "200"
      ]
     },
     "execution_count": 11,
     "metadata": {},
     "output_type": "execute_result"
    }
   ],
   "source": [
    "res.status_code"
   ]
  },
  {
   "cell_type": "code",
   "execution_count": 12,
   "id": "2f7e3ff5",
   "metadata": {},
   "outputs": [],
   "source": [
    "import bs4"
   ]
  },
  {
   "cell_type": "code",
   "execution_count": 13,
   "id": "76a03d0d",
   "metadata": {},
   "outputs": [],
   "source": [
    "dom = bs4.BeautifulSoup(res.text)"
   ]
  },
  {
   "cell_type": "code",
   "execution_count": 14,
   "id": "f49383a7",
   "metadata": {},
   "outputs": [
    {
     "data": {
      "text/plain": [
       "[<font color=\"red\">18</font>,\n",
       " <font color=\"red\">20</font>,\n",
       " <font color=\"red\">26</font>]"
      ]
     },
     "execution_count": 14,
     "metadata": {},
     "output_type": "execute_result"
    }
   ],
   "source": [
    "dom.find_all(\"font\")"
   ]
  },
  {
   "cell_type": "code",
   "execution_count": 15,
   "id": "6a9d3842",
   "metadata": {},
   "outputs": [
    {
     "name": "stdout",
     "output_type": "stream",
     "text": [
      "lisi 18\n",
      "mhb 20\n",
      "mhbsb 26\n"
     ]
    }
   ],
   "source": [
    "for f in dom.find_all(\"font\"):\n",
    "    tr =f.parent.parent\n",
    "    name,age =tr.find_all(\"td\")\n",
    "    print(name.text,age.text)"
   ]
  },
  {
   "cell_type": "code",
   "execution_count": null,
   "id": "26028486",
   "metadata": {},
   "outputs": [],
   "source": []
  }
 ],
 "metadata": {
  "kernelspec": {
   "display_name": "Python 3 (ipykernel)",
   "language": "python",
   "name": "python3"
  },
  "language_info": {
   "codemirror_mode": {
    "name": "ipython",
    "version": 3
   },
   "file_extension": ".py",
   "mimetype": "text/x-python",
   "name": "python",
   "nbconvert_exporter": "python",
   "pygments_lexer": "ipython3",
   "version": "3.9.7"
  }
 },
 "nbformat": 4,
 "nbformat_minor": 5
}
