{
 "cells": [
  {
   "cell_type": "code",
   "execution_count": 1,
   "id": "dd3229e4",
   "metadata": {},
   "outputs": [],
   "source": [
    "import sqlite3"
   ]
  },
  {
   "cell_type": "code",
   "execution_count": 2,
   "id": "2f3bb420",
   "metadata": {},
   "outputs": [],
   "source": [
    "con = sqlite3.connect(\"mydb.db\")"
   ]
  },
  {
   "cell_type": "code",
   "execution_count": 3,
   "id": "e93cb875",
   "metadata": {},
   "outputs": [
    {
     "data": {
      "text/plain": [
       "<sqlite3.Cursor at 0x1f522d686c0>"
      ]
     },
     "execution_count": 3,
     "metadata": {},
     "output_type": "execute_result"
    }
   ],
   "source": [
    "con.execute(\"create table students(ID int,name text,age int)\")"
   ]
  },
  {
   "cell_type": "code",
   "execution_count": 4,
   "id": "d04adabc",
   "metadata": {},
   "outputs": [],
   "source": [
    "students =(\n",
    "    (123,'zhangsan',19),\n",
    "    (124,'sb',20),\n",
    "    (125,'zz',18),\n",
    ")"
   ]
  },
  {
   "cell_type": "code",
   "execution_count": 6,
   "id": "1728e018",
   "metadata": {},
   "outputs": [
    {
     "data": {
      "text/plain": [
       "<sqlite3.Cursor at 0x1f522e74e30>"
      ]
     },
     "execution_count": 6,
     "metadata": {},
     "output_type": "execute_result"
    }
   ],
   "source": [
    "con.executemany(\"insert into students values(?,?,?)\",students)"
   ]
  },
  {
   "cell_type": "code",
   "execution_count": 7,
   "id": "456e2214",
   "metadata": {},
   "outputs": [],
   "source": [
    "for s in students:\n",
    "    con.execute(\"insert into students values (?,?,?)\",s)"
   ]
  },
  {
   "cell_type": "code",
   "execution_count": 10,
   "id": "8975ad24",
   "metadata": {},
   "outputs": [
    {
     "name": "stdout",
     "output_type": "stream",
     "text": [
      "(123, 'zhangsan', 19)\n",
      "(124, 'sb', 20)\n",
      "(125, 'zz', 18)\n",
      "(123, 'zhangsan', 19)\n",
      "(124, 'sb', 20)\n",
      "(125, 'zz', 18)\n"
     ]
    }
   ],
   "source": [
    "for row in con.execute(\"select * from students\"):\n",
    "    print(row)"
   ]
  },
  {
   "cell_type": "code",
   "execution_count": 11,
   "id": "b18a401d",
   "metadata": {},
   "outputs": [],
   "source": [
    "def query_by_name_placeholder(con,name):\n",
    "    for row in con.execute(\"select * from students where name=?\",(name,)):\n",
    "        print(row)"
   ]
  },
  {
   "cell_type": "code",
   "execution_count": 12,
   "id": "fc8fe46c",
   "metadata": {},
   "outputs": [
    {
     "name": "stdout",
     "output_type": "stream",
     "text": [
      "(123, 'zhangsan', 19)\n",
      "(123, 'zhangsan', 19)\n"
     ]
    }
   ],
   "source": [
    "query_by_name_placeholder(con,\"zhangsan\")"
   ]
  },
  {
   "cell_type": "code",
   "execution_count": 13,
   "id": "8b661d43",
   "metadata": {},
   "outputs": [],
   "source": [
    "query_by_name_placeholder(con,\"boby' or true; --\")"
   ]
  },
  {
   "cell_type": "code",
   "execution_count": 14,
   "id": "2bd11964",
   "metadata": {},
   "outputs": [],
   "source": [
    "import json\n"
   ]
  },
  {
   "cell_type": "code",
   "execution_count": 15,
   "id": "469d543d",
   "metadata": {},
   "outputs": [],
   "source": [
    "student = {\"name\":\"zhangsan\",\"age\":13}"
   ]
  },
  {
   "cell_type": "code",
   "execution_count": 19,
   "id": "dc0fae2d",
   "metadata": {},
   "outputs": [
    {
     "data": {
      "text/plain": [
       "'{\"name\": \"zhangsan\", \"age\": 13}'"
      ]
     },
     "execution_count": 19,
     "metadata": {},
     "output_type": "execute_result"
    }
   ],
   "source": [
    "json.dumps(student)"
   ]
  },
  {
   "cell_type": "code",
   "execution_count": 20,
   "id": "cfe5fb9c",
   "metadata": {},
   "outputs": [],
   "source": [
    "with open(\"student.json\",\"w\")as f:\n",
    "    json.dump(student,f)"
   ]
  },
  {
   "cell_type": "code",
   "execution_count": 22,
   "id": "96b95724",
   "metadata": {},
   "outputs": [],
   "source": [
    "with open(\"student.json\",\"r\")as f:\n",
    "    student2 =json.load(f)"
   ]
  },
  {
   "cell_type": "code",
   "execution_count": 23,
   "id": "fada705f",
   "metadata": {},
   "outputs": [
    {
     "data": {
      "text/plain": [
       "{'name': 'zhangsan', 'age': 18}"
      ]
     },
     "execution_count": 23,
     "metadata": {},
     "output_type": "execute_result"
    }
   ],
   "source": [
    "student2"
   ]
  },
  {
   "cell_type": "code",
   "execution_count": 24,
   "id": "c25f89f7",
   "metadata": {},
   "outputs": [],
   "source": [
    "import pickle\n"
   ]
  },
  {
   "cell_type": "code",
   "execution_count": 26,
   "id": "e252b32a",
   "metadata": {},
   "outputs": [],
   "source": [
    "with open(\"student.p\",\"wb\") as f:\n",
    "    pickle.dump(student2,f)"
   ]
  },
  {
   "cell_type": "code",
   "execution_count": 27,
   "id": "33bd21cd",
   "metadata": {},
   "outputs": [],
   "source": [
    "with open(\"student.p\",\"rb\" )as f:\n",
    "    student3=pickle.load(f)"
   ]
  },
  {
   "cell_type": "code",
   "execution_count": 28,
   "id": "e669ee9a",
   "metadata": {},
   "outputs": [
    {
     "data": {
      "text/plain": [
       "{'name': 'zhangsan', 'age': 18}"
      ]
     },
     "execution_count": 28,
     "metadata": {},
     "output_type": "execute_result"
    }
   ],
   "source": [
    "student3"
   ]
  },
  {
   "cell_type": "code",
   "execution_count": 33,
   "id": "d085e1c6",
   "metadata": {},
   "outputs": [],
   "source": [
    "class A:\n",
    "    def __init__(self,a):\n",
    "        self.a=a\n",
    "    def display(self):\n",
    "        print(self.a)"
   ]
  },
  {
   "cell_type": "code",
   "execution_count": 34,
   "id": "90e03354",
   "metadata": {},
   "outputs": [],
   "source": [
    "obj=A(10)"
   ]
  },
  {
   "cell_type": "code",
   "execution_count": 35,
   "id": "a1061be3",
   "metadata": {},
   "outputs": [],
   "source": [
    "with open(\"obj.p\",\"wb\")as f:\n",
    "    pickle.dump(obj,f)"
   ]
  },
  {
   "cell_type": "code",
   "execution_count": 36,
   "id": "82f4f924",
   "metadata": {},
   "outputs": [],
   "source": [
    "with open(\"obj.p\",\"rb\")as f:\n",
    "    obj2 =pickle.load(f)"
   ]
  },
  {
   "cell_type": "code",
   "execution_count": 37,
   "id": "2194a82c",
   "metadata": {},
   "outputs": [
    {
     "data": {
      "text/plain": [
       "__main__.A"
      ]
     },
     "execution_count": 37,
     "metadata": {},
     "output_type": "execute_result"
    }
   ],
   "source": [
    "type(obj2)"
   ]
  },
  {
   "cell_type": "code",
   "execution_count": 39,
   "id": "d5652ef0",
   "metadata": {},
   "outputs": [
    {
     "name": "stdout",
     "output_type": "stream",
     "text": [
      "10\n"
     ]
    }
   ],
   "source": [
    "obj2.display()"
   ]
  },
  {
   "cell_type": "code",
   "execution_count": null,
   "id": "1666f41f",
   "metadata": {},
   "outputs": [],
   "source": []
  }
 ],
 "metadata": {
  "kernelspec": {
   "display_name": "Python 3 (ipykernel)",
   "language": "python",
   "name": "python3"
  },
  "language_info": {
   "codemirror_mode": {
    "name": "ipython",
    "version": 3
   },
   "file_extension": ".py",
   "mimetype": "text/x-python",
   "name": "python",
   "nbconvert_exporter": "python",
   "pygments_lexer": "ipython3",
   "version": "3.9.7"
  }
 },
 "nbformat": 4,
 "nbformat_minor": 5
}
