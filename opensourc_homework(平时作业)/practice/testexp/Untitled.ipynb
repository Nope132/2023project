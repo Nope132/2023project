{
 "cells": [
  {
   "cell_type": "code",
   "execution_count": 1,
   "id": "e317ec6c",
   "metadata": {},
   "outputs": [
    {
     "name": "stdout",
     "output_type": "stream",
     "text": [
      "Couldn't run 'C:\\Users\\杜添翼\\Desktop\\testexp\\test.py' as Python code: TabError: inconsistent use of tabs and spaces in indentation (test.py, line 25)\n"
     ]
    },
    {
     "name": "stderr",
     "output_type": "stream",
     "text": [
      "D:\\Anaconda3\\lib\\site-packages\\coverage\\control.py:883: CoverageWarning: No data was collected. (no-data-collected)\n",
      "  self._warn(\"No data was collected.\", slug=\"no-data-collected\")\n"
     ]
    }
   ],
   "source": [
    "!coverage run test.py\n"
   ]
  },
  {
   "cell_type": "code",
   "execution_count": null,
   "id": "5cb9bdfe",
   "metadata": {},
   "outputs": [],
   "source": []
  }
 ],
 "metadata": {
  "kernelspec": {
   "display_name": "Python 3 (ipykernel)",
   "language": "python",
   "name": "python3"
  },
  "language_info": {
   "codemirror_mode": {
    "name": "ipython",
    "version": 3
   },
   "file_extension": ".py",
   "mimetype": "text/x-python",
   "name": "python",
   "nbconvert_exporter": "python",
   "pygments_lexer": "ipython3",
   "version": "3.9.7"
  }
 },
 "nbformat": 4,
 "nbformat_minor": 5
}
