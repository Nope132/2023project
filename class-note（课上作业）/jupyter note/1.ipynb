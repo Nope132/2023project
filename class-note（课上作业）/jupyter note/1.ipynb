{
 "cells": [
  {
   "cell_type": "code",
   "execution_count": 1,
   "id": "b92585de",
   "metadata": {},
   "outputs": [
    {
     "name": "stderr",
     "output_type": "stream",
     "text": [
      "'cat' 不是内部或外部命令，也不是可运行的程序\n",
      "或批处理文件。\n"
     ]
    }
   ],
   "source": [
    "!cat trace.py"
   ]
  },
  {
   "cell_type": "code",
   "execution_count": 3,
   "id": "97fe418f",
   "metadata": {},
   "outputs": [
    {
     "name": "stdout",
     "output_type": "stream",
     "text": [
      "event:call,func:foo,lineno:12),locals:{'bar': 11}\n",
      "event:line,func:foo,lineno:13),locals:{'bar': 11}\n",
      "event:line,func:foo,lineno:14),locals:{'bar': 11, 'buz': 1}\n",
      "event:line,func:foo,lineno:15),locals:{'bar': 11, 'buz': 1}\n",
      "event:return,func:foo,lineno:15),locals:{'bar': 11, 'buz': 1}\n"
     ]
    }
   ],
   "source": [
    "run trace.py"
   ]
  },
  {
   "cell_type": "code",
   "execution_count": 4,
   "id": "6e1e63b7",
   "metadata": {},
   "outputs": [],
   "source": []
  },
  {
   "cell_type": "code",
   "execution_count": 5,
   "id": "19b68374",
   "metadata": {},
   "outputs": [],
   "source": [
    "#args,kwargs\n",
    "def foo(*args,**kwargs):\n",
    "    print(args,kwargs)"
   ]
  },
  {
   "cell_type": "code",
   "execution_count": 6,
   "id": "d1fc968b",
   "metadata": {},
   "outputs": [
    {
     "name": "stdout",
     "output_type": "stream",
     "text": [
      "(1, 2, 3) {'x': 1, 'y': 2}\n"
     ]
    }
   ],
   "source": [
    "foo(1,2,3,x=1,y=2)"
   ]
  },
  {
   "cell_type": "code",
   "execution_count": 8,
   "id": "66f8cb56",
   "metadata": {},
   "outputs": [],
   "source": [
    "def outer(func):\n",
    "    def inner(*args,**kwargs):\n",
    "        return func(*args,**kwargs)\n",
    "    return inner"
   ]
  },
  {
   "cell_type": "code",
   "execution_count": 9,
   "id": "b8774887",
   "metadata": {},
   "outputs": [],
   "source": [
    "def foo():\n",
    "    return 20"
   ]
  },
  {
   "cell_type": "code",
   "execution_count": 11,
   "id": "64f411ee",
   "metadata": {},
   "outputs": [],
   "source": [
    "inn =outer(foo)"
   ]
  },
  {
   "cell_type": "code",
   "execution_count": 13,
   "id": "20a80b6d",
   "metadata": {},
   "outputs": [
    {
     "data": {
      "text/plain": [
       "20"
      ]
     },
     "execution_count": 13,
     "metadata": {},
     "output_type": "execute_result"
    }
   ],
   "source": [
    "inn()"
   ]
  },
  {
   "cell_type": "code",
   "execution_count": 15,
   "id": "b7001b15",
   "metadata": {},
   "outputs": [],
   "source": [
    "def outer(func):\n",
    "    def inner(*args,**kwargs):\n",
    "        print(\"before calling function\")\n",
    "        return func(*args,**kwargs)\n",
    "    return inner"
   ]
  },
  {
   "cell_type": "code",
   "execution_count": 16,
   "id": "602cd1d2",
   "metadata": {},
   "outputs": [],
   "source": [
    "@outer\n",
    "def foo():\n",
    "    return 20"
   ]
  },
  {
   "cell_type": "code",
   "execution_count": 17,
   "id": "54b671d0",
   "metadata": {},
   "outputs": [
    {
     "name": "stdout",
     "output_type": "stream",
     "text": [
      "before calling function\n"
     ]
    },
    {
     "data": {
      "text/plain": [
       "20"
      ]
     },
     "execution_count": 17,
     "metadata": {},
     "output_type": "execute_result"
    }
   ],
   "source": [
    "foo()"
   ]
  },
  {
   "cell_type": "code",
   "execution_count": 18,
   "id": "bfa3612b",
   "metadata": {},
   "outputs": [
    {
     "name": "stdout",
     "output_type": "stream",
     "text": [
      "before calling function\n"
     ]
    },
    {
     "data": {
      "text/plain": [
       "1"
      ]
     },
     "execution_count": 18,
     "metadata": {},
     "output_type": "execute_result"
    }
   ],
   "source": [
    "def bar():\n",
    "    return 1\n",
    "\n",
    "inn =outer(bar)\n",
    "inn()"
   ]
  },
  {
   "cell_type": "code",
   "execution_count": 19,
   "id": "ee7c259e",
   "metadata": {},
   "outputs": [
    {
     "name": "stdout",
     "output_type": "stream",
     "text": [
      "event:call,func:inner,lineno:14),locals:{'args': (11,), 'kwargs': {}, 'func': <function foo at 0x0000022B848B4550>}\n",
      "event:line,func:inner,lineno:15),locals:{'args': (11,), 'kwargs': {}, 'func': <function foo at 0x0000022B848B4550>}\n",
      "event:line,func:inner,lineno:16),locals:{'args': (11,), 'kwargs': {}, 'func': <function foo at 0x0000022B848B4550>, 'old': None}\n",
      "event:call,func:foo,lineno:21),locals:{'bar': 11}\n",
      "event:line,func:foo,lineno:23),locals:{'bar': 11}\n",
      "event:line,func:foo,lineno:24),locals:{'bar': 11, 'buz': 1}\n",
      "event:line,func:foo,lineno:25),locals:{'bar': 11, 'buz': 1}\n",
      "event:return,func:foo,lineno:25),locals:{'bar': 11, 'buz': 1}\n",
      "event:line,func:inner,lineno:17),locals:{'args': (11,), 'kwargs': {}, 'func': <function foo at 0x0000022B848B4550>, 'old': None, 'returnval': 1}\n"
     ]
    }
   ],
   "source": [
    "run trace.py"
   ]
  },
  {
   "cell_type": "code",
   "execution_count": 20,
   "id": "3ff1541e",
   "metadata": {},
   "outputs": [
    {
     "name": "stdout",
     "output_type": "stream",
     "text": [
      "event:call,func:foo,lineno:21),locals:{'bar': 11}\n",
      "event:line,func:foo,lineno:23),locals:{'bar': 11}\n",
      "event:line,func:foo,lineno:24),locals:{'bar': 11, 'buz': 1}\n",
      "event:line,func:foo,lineno:25),locals:{'bar': 11, 'buz': 1}\n",
      "event:return,func:foo,lineno:25),locals:{'bar': 11, 'buz': 1}\n"
     ]
    }
   ],
   "source": [
    "run trace.py"
   ]
  },
  {
   "cell_type": "code",
   "execution_count": 21,
   "id": "5da0e312",
   "metadata": {},
   "outputs": [
    {
     "name": "stdout",
     "output_type": "stream",
     "text": [
      "0,0-0,0:            ENCODING       'utf-8'        \n",
      "1,0-1,18:           COMMENT        '#!/user/bin/python'\n",
      "1,18-1,19:          NL             '\\n'           \n",
      "2,0-2,15:           COMMENT        '# coding: utf-8'\n",
      "2,15-2,16:          NL             '\\n'           \n",
      "3,0-3,4:            NAME           'from'         \n",
      "3,5-3,8:            NAME           'sys'          \n",
      "3,9-3,15:           NAME           'import'       \n",
      "3,16-3,24:          NAME           'settrace'     \n",
      "3,24-3,25:          NEWLINE        '\\n'           \n",
      "4,0-4,1:            NL             '\\n'           \n",
      "5,0-5,3:            NAME           'def'          \n",
      "5,4-5,10:           NAME           'tracer'       \n",
      "5,10-5,11:          OP             '('            \n",
      "5,11-5,16:          NAME           'frame'        \n",
      "5,16-5,17:          OP             ','            \n",
      "5,17-5,22:          NAME           'event'        \n",
      "5,22-5,23:          OP             ','            \n",
      "5,23-5,26:          NAME           'arg'          \n",
      "5,26-5,27:          OP             '='            \n",
      "5,27-5,31:          NAME           'None'         \n",
      "5,31-5,32:          OP             ')'            \n",
      "5,32-5,33:          OP             ':'            \n",
      "5,33-5,34:          NEWLINE        '\\n'           \n",
      "6,0-6,4:            INDENT         '    '         \n",
      "6,4-6,8:            NAME           'func'         \n",
      "6,9-6,10:           OP             '='            \n",
      "6,10-6,15:          NAME           'frame'        \n",
      "6,15-6,16:          OP             '.'            \n",
      "6,16-6,22:          NAME           'f_code'       \n",
      "6,22-6,23:          OP             '.'            \n",
      "6,23-6,30:          NAME           'co_name'      \n",
      "6,30-6,31:          NEWLINE        '\\n'           \n",
      "7,4-7,10:           NAME           'lineno'       \n",
      "7,11-7,12:          OP             '='            \n",
      "7,12-7,17:          NAME           'frame'        \n",
      "7,17-7,18:          OP             '.'            \n",
      "7,18-7,26:          NAME           'f_lineno'     \n",
      "7,26-7,27:          NEWLINE        '\\n'           \n",
      "8,4-8,10:           NAME           'locals'       \n",
      "8,11-8,12:          OP             '='            \n",
      "8,12-8,17:          NAME           'frame'        \n",
      "8,17-8,18:          OP             '.'            \n",
      "8,18-8,26:          NAME           'f_locals'     \n",
      "8,26-8,27:          NEWLINE        '\\n'           \n",
      "9,4-9,9:            NAME           'print'        \n",
      "9,9-9,10:           OP             '('            \n",
      "9,10-9,71:          STRING         'f\"event:{event},func:{func},lineno:{lineno}),locals:{locals}\"'\n",
      "9,71-9,72:          OP             ')'            \n",
      "9,72-9,73:          NEWLINE        '\\n'           \n",
      "10,4-10,10:         NAME           'return'       \n",
      "10,11-10,17:        NAME           'tracer'       \n",
      "10,17-10,18:        NEWLINE        '\\n'           \n",
      "11,0-11,1:          NL             '\\n'           \n",
      "12,0-12,1:          NL             '\\n'           \n",
      "13,0-13,0:          DEDENT         ''             \n",
      "13,0-13,3:          NAME           'def'          \n",
      "13,4-13,13:         NAME           'mysnooper'    \n",
      "13,13-13,14:        OP             '('            \n",
      "13,14-13,18:        NAME           'func'         \n",
      "13,18-13,19:        OP             ')'            \n",
      "13,19-13,20:        OP             ':'            \n",
      "13,20-13,21:        NEWLINE        '\\n'           \n",
      "14,0-14,4:          INDENT         '    '         \n",
      "14,4-14,7:          NAME           'def'          \n",
      "14,8-14,13:         NAME           'inner'        \n",
      "14,13-14,14:        OP             '('            \n",
      "14,14-14,15:        OP             '*'            \n",
      "14,15-14,19:        NAME           'args'         \n",
      "14,19-14,20:        OP             ','            \n",
      "14,20-14,22:        OP             '**'           \n",
      "14,22-14,28:        NAME           'kwargs'       \n",
      "14,28-14,29:        OP             ')'            \n",
      "14,29-14,30:        OP             ':'            \n",
      "14,30-14,31:        NEWLINE        '\\n'           \n",
      "15,0-15,8:          INDENT         '        '     \n",
      "15,8-15,11:         NAME           'old'          \n",
      "15,12-15,13:        OP             '='            \n",
      "15,14-15,22:        NAME           'settrace'     \n",
      "15,22-15,23:        OP             '('            \n",
      "15,23-15,29:        NAME           'tracer'       \n",
      "15,29-15,30:        OP             ')'            \n",
      "15,30-15,31:        NEWLINE        '\\n'           \n",
      "16,8-16,17:         NAME           'returnval'    \n",
      "16,18-16,19:        OP             '='            \n",
      "16,20-16,24:        NAME           'func'         \n",
      "16,24-16,25:        OP             '('            \n",
      "16,25-16,26:        OP             '*'            \n",
      "16,26-16,30:        NAME           'args'         \n",
      "16,30-16,31:        OP             ','            \n",
      "16,31-16,33:        OP             '**'           \n",
      "16,33-16,39:        NAME           'kwargs'       \n",
      "16,39-16,40:        OP             ')'            \n",
      "16,40-16,41:        NEWLINE        '\\n'           \n",
      "17,8-17,16:         NAME           'settrace'     \n",
      "17,16-17,17:        OP             '('            \n",
      "17,17-17,20:        NAME           'old'          \n",
      "17,20-17,21:        OP             ')'            \n",
      "17,21-17,22:        NEWLINE        '\\n'           \n",
      "18,8-18,14:         NAME           'return'       \n",
      "18,15-18,24:        NAME           'returnval'    \n",
      "18,24-18,25:        NEWLINE        '\\n'           \n",
      "19,4-19,4:          DEDENT         ''             \n",
      "19,4-19,10:         NAME           'return'       \n",
      "19,11-19,16:        NAME           'inner'        \n",
      "19,16-19,17:        NEWLINE        '\\n'           \n",
      "20,0-20,1:          NL             '\\n'           \n",
      "21,0-21,0:          DEDENT         ''             \n",
      "21,0-21,1:          OP             '@'            \n",
      "21,1-21,10:         NAME           'mysnooper'    \n",
      "21,10-21,11:        NEWLINE        '\\n'           \n",
      "22,0-22,3:          NAME           'def'          \n",
      "22,4-22,7:          NAME           'foo'          \n",
      "22,7-22,8:          OP             '('            \n",
      "22,8-22,11:         NAME           'bar'          \n",
      "22,11-22,12:        OP             ')'            \n",
      "22,12-22,13:        OP             ':'            \n",
      "22,13-22,14:        NEWLINE        '\\n'           \n",
      "23,0-23,4:          INDENT         '    '         \n",
      "23,4-23,7:          NAME           'buz'          \n",
      "23,8-23,9:          OP             '='            \n",
      "23,9-23,10:         NUMBER         '1'            \n",
      "23,10-23,11:        NEWLINE        '\\n'           \n",
      "24,4-24,6:          NAME           'if'           \n",
      "24,7-24,10:         NAME           'bar'          \n",
      "24,10-24,11:        OP             '+'            \n",
      "24,11-24,14:        NAME           'buz'          \n",
      "24,15-24,16:        OP             '>'            \n",
      "24,16-24,18:        NUMBER         '10'           \n",
      "24,18-24,19:        OP             ':'            \n",
      "24,19-24,20:        NEWLINE        '\\n'           \n",
      "25,0-25,8:          INDENT         '        '     \n",
      "25,8-25,14:         NAME           'return'       \n",
      "25,15-25,16:        NUMBER         '1'            \n",
      "25,16-25,17:        NEWLINE        '\\n'           \n",
      "26,4-26,4:          DEDENT         ''             \n",
      "26,4-26,8:          NAME           'else'         \n",
      "26,8-26,9:          OP             ':'            \n",
      "26,9-26,10:         NEWLINE        '\\n'           \n",
      "27,0-27,8:          INDENT         '        '     \n",
      "27,8-27,14:         NAME           'return'       \n",
      "27,15-27,16:        NUMBER         '2'            \n",
      "27,16-27,17:        NEWLINE        '\\n'           \n",
      "28,0-28,23:         COMMENT        '#old = settrace(tracer)'\n",
      "28,23-28,24:        NL             '\\n'           \n",
      "29,0-29,0:          DEDENT         ''             \n",
      "29,0-29,0:          DEDENT         ''             \n",
      "29,0-29,3:          NAME           'foo'          \n",
      "29,3-29,4:          OP             '('            \n",
      "29,4-29,6:          NUMBER         '11'           \n",
      "29,6-29,7:          OP             ')'            \n",
      "29,7-29,8:          NEWLINE        '\\n'           \n",
      "30,0-30,14:         COMMENT        '#settrace(old)'\n",
      "30,14-30,14:        NL             ''             \n",
      "31,0-31,0:          ENDMARKER      ''             \n"
     ]
    }
   ],
   "source": [
    "!python -m tokenize trace.py"
   ]
  },
  {
   "cell_type": "code",
   "execution_count": 22,
   "id": "a44b13e6",
   "metadata": {},
   "outputs": [
    {
     "name": "stdout",
     "output_type": "stream",
     "text": [
      "Requirement already satisfied: libcst in d:\\anaconda3\\lib\\site-packages (1.1.0)\n",
      "Requirement already satisfied: typing-extensions>=3.7.4.2 in d:\\anaconda3\\lib\\site-packages (from libcst) (3.10.0.2)\n",
      "Requirement already satisfied: typing-inspect>=0.4.0 in d:\\anaconda3\\lib\\site-packages (from libcst) (0.9.0)\n",
      "Requirement already satisfied: pyyaml>=5.2 in d:\\anaconda3\\lib\\site-packages (from libcst) (6.0)\n",
      "Requirement already satisfied: mypy-extensions>=0.3.0 in d:\\anaconda3\\lib\\site-packages (from typing-inspect>=0.4.0->libcst) (0.4.3)\n"
     ]
    },
    {
     "name": "stderr",
     "output_type": "stream",
     "text": [
      "DEPRECATION: pyodbc 4.0.0-unsupported has a non-standard version number. pip 24.0 will enforce this behaviour change. A possible replacement is to upgrade to a newer version of pyodbc or contact the author to suggest that they release a version with a conforming version number. Discussion can be found at https://github.com/pypa/pip/issues/12063\n"
     ]
    }
   ],
   "source": [
    "!pip install libcst"
   ]
  },
  {
   "cell_type": "code",
   "execution_count": 23,
   "id": "684355c6",
   "metadata": {},
   "outputs": [],
   "source": [
    "import libcst"
   ]
  },
  {
   "cell_type": "code",
   "execution_count": 26,
   "id": "6ca93e70",
   "metadata": {},
   "outputs": [],
   "source": [
    "text =\"\"\"\n",
    "def foo(bar):\n",
    "    pass\n",
    "\"\"\""
   ]
  },
  {
   "cell_type": "code",
   "execution_count": 27,
   "id": "ddc56e45",
   "metadata": {},
   "outputs": [],
   "source": [
    "code =libcst.parse_module(text)"
   ]
  },
  {
   "cell_type": "code",
   "execution_count": 28,
   "id": "70a67bef",
   "metadata": {},
   "outputs": [
    {
     "data": {
      "text/plain": [
       "Module(\n",
       "    body=[\n",
       "        FunctionDef(\n",
       "            name=Name(\n",
       "                value='foo',\n",
       "                lpar=[],\n",
       "                rpar=[],\n",
       "            ),\n",
       "            params=Parameters(\n",
       "                params=[\n",
       "                    Param(\n",
       "                        name=Name(\n",
       "                            value='bar',\n",
       "                            lpar=[],\n",
       "                            rpar=[],\n",
       "                        ),\n",
       "                        annotation=None,\n",
       "                        equal=MaybeSentinel.DEFAULT,\n",
       "                        default=None,\n",
       "                        comma=MaybeSentinel.DEFAULT,\n",
       "                        star='',\n",
       "                        whitespace_after_star=SimpleWhitespace(\n",
       "                            value='',\n",
       "                        ),\n",
       "                        whitespace_after_param=SimpleWhitespace(\n",
       "                            value='',\n",
       "                        ),\n",
       "                    ),\n",
       "                ],\n",
       "                star_arg=MaybeSentinel.DEFAULT,\n",
       "                kwonly_params=[],\n",
       "                star_kwarg=None,\n",
       "                posonly_params=[],\n",
       "                posonly_ind=MaybeSentinel.DEFAULT,\n",
       "            ),\n",
       "            body=IndentedBlock(\n",
       "                body=[\n",
       "                    SimpleStatementLine(\n",
       "                        body=[\n",
       "                            Pass(\n",
       "                                semicolon=MaybeSentinel.DEFAULT,\n",
       "                            ),\n",
       "                        ],\n",
       "                        leading_lines=[],\n",
       "                        trailing_whitespace=TrailingWhitespace(\n",
       "                            whitespace=SimpleWhitespace(\n",
       "                                value='',\n",
       "                            ),\n",
       "                            comment=None,\n",
       "                            newline=Newline(\n",
       "                                value=None,\n",
       "                            ),\n",
       "                        ),\n",
       "                    ),\n",
       "                ],\n",
       "                header=TrailingWhitespace(\n",
       "                    whitespace=SimpleWhitespace(\n",
       "                        value='',\n",
       "                    ),\n",
       "                    comment=None,\n",
       "                    newline=Newline(\n",
       "                        value=None,\n",
       "                    ),\n",
       "                ),\n",
       "                indent=None,\n",
       "                footer=[],\n",
       "            ),\n",
       "            decorators=[],\n",
       "            returns=None,\n",
       "            asynchronous=None,\n",
       "            leading_lines=[],\n",
       "            lines_after_decorators=[],\n",
       "            whitespace_after_def=SimpleWhitespace(\n",
       "                value=' ',\n",
       "            ),\n",
       "            whitespace_after_name=SimpleWhitespace(\n",
       "                value='',\n",
       "            ),\n",
       "            whitespace_before_params=SimpleWhitespace(\n",
       "                value='',\n",
       "            ),\n",
       "            whitespace_before_colon=SimpleWhitespace(\n",
       "                value='',\n",
       "            ),\n",
       "            type_parameters=None,\n",
       "            whitespace_after_type_parameters=SimpleWhitespace(\n",
       "                value='',\n",
       "            ),\n",
       "        ),\n",
       "    ],\n",
       "    header=[\n",
       "        EmptyLine(\n",
       "            indent=True,\n",
       "            whitespace=SimpleWhitespace(\n",
       "                value='',\n",
       "            ),\n",
       "            comment=None,\n",
       "            newline=Newline(\n",
       "                value=None,\n",
       "            ),\n",
       "        ),\n",
       "    ],\n",
       "    footer=[],\n",
       "    encoding='utf-8',\n",
       "    default_indent='    ',\n",
       "    default_newline='\\n',\n",
       "    has_trailing_newline=True,\n",
       ")"
      ]
     },
     "execution_count": 28,
     "metadata": {},
     "output_type": "execute_result"
    }
   ],
   "source": [
    "code"
   ]
  },
  {
   "cell_type": "code",
   "execution_count": null,
   "id": "c9daea33",
   "metadata": {},
   "outputs": [],
   "source": []
  }
 ],
 "metadata": {
  "kernelspec": {
   "display_name": "Python 3 (ipykernel)",
   "language": "python",
   "name": "python3"
  },
  "language_info": {
   "codemirror_mode": {
    "name": "ipython",
    "version": 3
   },
   "file_extension": ".py",
   "mimetype": "text/x-python",
   "name": "python",
   "nbconvert_exporter": "python",
   "pygments_lexer": "ipython3",
   "version": "3.9.7"
  }
 },
 "nbformat": 4,
 "nbformat_minor": 5
}
